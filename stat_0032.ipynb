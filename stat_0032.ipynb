{
 "cells": [
  {
   "cell_type": "markdown",
   "metadata": {},
   "source": [
    "#### Importing libraries and data ####"
   ]
  },
  {
   "cell_type": "code",
   "execution_count": 166,
   "metadata": {
    "scrolled": true
   },
   "outputs": [],
   "source": [
    "import numpy as np\n",
    "import pandas as pd\n",
    "import scipy\n",
    "import seaborn as sns\n",
    "from scipy.stats import chisquare\n",
    "from scipy.stats import kstest\n",
    "import warnings\n",
    "import matplotlib.pyplot as plt\n",
    "warnings.filterwarnings(action='once')\n",
    "data_red = pd.read_csv('~/frida_ml_repo/rm_ucl/msc_dsml/intro_to_stat_ds/assignment/data/winequality-red.csv',delimiter=';')\n",
    "data_white = pd.read_csv('~/frida_ml_repo/rm_ucl/msc_dsml/intro_to_stat_ds/assignment/data/winequality-white.csv',delimiter=';')"
   ]
  },
  {
   "cell_type": "markdown",
   "metadata": {},
   "source": [
    "#### Setting masks ####"
   ]
  },
  {
   "cell_type": "code",
   "execution_count": 167,
   "metadata": {},
   "outputs": [],
   "source": [
    "mask_low_red = (data_red['quality']<=4)\n",
    "mask_mid_red = ((data_red['quality']>4) & (data_red['quality']<7))\n",
    "mask_high_red = (data_red['quality']>=7)\n",
    "\n",
    "mask_low_white = (data_white['quality']<=4)\n",
    "mask_mid_white = ((data_white['quality']>4) & data_white['quality']<7)\n",
    "mask_high_white = (data_white['quality']>=7)"
   ]
  },
  {
   "cell_type": "markdown",
   "metadata": {},
   "source": [
    "#### Defining functions ####"
   ]
  },
  {
   "cell_type": "code",
   "execution_count": 174,
   "metadata": {},
   "outputs": [],
   "source": [
    "def chisquare_func(mask_variable,column_variable,data_variable,bin_number=5,freedegree=1):\n",
    "\n",
    "    data_to_use = data_variable[mask_variable]\n",
    "    data_to_use['Bin'] = pd.cut(data_to_use[column_variable], data_to_use[column_variable].quantile(np.linspace(0.1,1,bin_number)).values)\n",
    "\n",
    "    normal_data = np.random.normal(data_to_use[column_variable].mean(),data_to_use[column_variable].std(),len(data_to_use))\n",
    "    normal_df = pd.DataFrame(normal_data,columns = [column_variable])\n",
    "    normal_df['Bin'] = pd.cut(normal_df[column_variable], normal_df[column_variable].quantile(np.linspace(0.1,1,bin_number)).values)\n",
    "\n",
    "    data_test = data_to_use.groupby('Bin').count()[column_variable]\n",
    "    normal_test = normal_df.groupby('Bin').count()[column_variable]\n",
    "    \n",
    "    min_data_test = np.min(data_test.values)\n",
    "    min_normal_test = np.min(normal_test.values)\n",
    "    \n",
    "    statistic , p_value = chisquare(data_test,normal_test,ddof=freedegree) \n",
    "    \n",
    "    print('the min count in a bin is {}'.format(np.min([min_data_test,min_normal_test])))\n",
    "    print('the degrees of freedom used is {}'.format(freedegree))\n",
    "    \n",
    "    return statistic, p_value\n",
    "\n",
    "def ks_func(mask_variable,column_variable,data_variable):\n",
    "\n",
    "    data_to_use = data_variable[mask_variable][column_variable]\n",
    "\n",
    "    statistic , p_value = kstest(data_to_use,'norm', args=(data_to_use.mean(), data_to_use.std()))   \n",
    "    \n",
    "    return statistic, p_value\n",
    "\n",
    "def compare_plot(mask_variable,column_variable,data_variable):\n",
    "    \n",
    "    data_to_use = data_variable[mask_variable][column_variable]\n",
    "\n",
    "    rvs = np.random.normal(data_to_use.mean(),data_to_use.std(),len(data_to_use))\n",
    "    \n",
    "    norm_cdf = scipy.stats.norm.cdf(rvs)\n",
    "    observed_cdf = scipy.stats.norm.cdf(data_to_use)\n",
    "    \n",
    "    sns.lineplot(x=rvs, y=norm_cdf)\n",
    "    sns.lineplot(x=data_to_use, y=observed_cdf)\n",
    "    plt.show()"
   ]
  },
  {
   "cell_type": "markdown",
   "metadata": {},
   "source": [
    "#### Examples ####"
   ]
  },
  {
   "cell_type": "code",
   "execution_count": 169,
   "metadata": {
    "scrolled": true
   },
   "outputs": [
    {
     "name": "stdout",
     "output_type": "stream",
     "text": [
      "the min count in a bin is 19\n",
      "the degrees of freedom used is 1\n"
     ]
    },
    {
     "name": "stderr",
     "output_type": "stream",
     "text": [
      "<ipython-input-168-434a35461f98>:6: SettingWithCopyWarning: \n",
      "A value is trying to be set on a copy of a slice from a DataFrame.\n",
      "Try using .loc[row_indexer,col_indexer] = value instead\n",
      "\n",
      "See the caveats in the documentation: https://pandas.pydata.org/pandas-docs/stable/user_guide/indexing.html#returning-a-view-versus-a-copy\n",
      "  data_to_use['Bin'] = pd.cut(data_to_use[column_variable], data_to_use[column_variable].quantile(np.linspace(0.1,1,bin_number)).values)\n"
     ]
    },
    {
     "data": {
      "text/plain": [
       "(4.858465608465608, 0.43339647127772307)"
      ]
     },
     "execution_count": 169,
     "metadata": {},
     "output_type": "execute_result"
    }
   ],
   "source": [
    "chisquare_func(mask_variable=mask_high_red,column_variable='pH',data_variable=data_red,bin_number=8,freedegree=1)"
   ]
  },
  {
   "cell_type": "code",
   "execution_count": 170,
   "metadata": {},
   "outputs": [
    {
     "data": {
      "text/plain": [
       "(0.059607962745335086, 0.407821834485401)"
      ]
     },
     "execution_count": 170,
     "metadata": {},
     "output_type": "execute_result"
    }
   ],
   "source": [
    "ks_func(mask_high_red,'pH',data_red)"
   ]
  },
  {
   "cell_type": "markdown",
   "metadata": {},
   "source": [
    "#### Plots for project ####"
   ]
  },
  {
   "cell_type": "code",
   "execution_count": 172,
   "metadata": {},
   "outputs": [
    {
     "data": {
      "image/png": "[encoded data removed]",
      "text/plain": [
       "<Figure size 432x288 with 1 Axes>"
      ]
     },
     "metadata": {
      "needs_background": "light"
     },
     "output_type": "display_data"
    }
   ],
   "source": [
    "compare_plot(mask_low_red,'pH',data_red)"
   ]
  },
  {
   "cell_type": "code",
   "execution_count": null,
   "metadata": {},
   "outputs": [],
   "source": []
  },
  {
   "cell_type": "code",
   "execution_count": null,
   "metadata": {},
   "outputs": [],
   "source": []
  },
  {
   "cell_type": "code",
   "execution_count": null,
   "metadata": {},
   "outputs": [],
   "source": []
  }
 ],
 "metadata": {
  "kernelspec": {
   "display_name": "Python 3",
   "language": "python",
   "name": "python3"
  },
  "language_info": {
   "codemirror_mode": {
    "name": "ipython",
    "version": 3
   },
   "file_extension": ".py",
   "mimetype": "text/x-python",
   "name": "python",
   "nbconvert_exporter": "python",
   "pygments_lexer": "ipython3",
   "version": "3.8.3"
  }
 },
 "nbformat": 4,
 "nbformat_minor": 4
}
