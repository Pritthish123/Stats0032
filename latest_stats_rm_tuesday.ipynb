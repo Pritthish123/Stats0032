{
 "cells": [
  {
   "cell_type": "markdown",
   "metadata": {},
   "source": [
    "#### Importing libraries and data ####"
   ]
  },
  {
   "cell_type": "code",
   "execution_count": 1,
   "metadata": {
    "scrolled": true
   },
   "outputs": [],
   "source": [
    "import numpy as np\n",
    "import pandas as pd\n",
    "import scipy\n",
    "import seaborn as sns\n",
    "from scipy.stats import kstest, anderson, chisquare, shapiro\n",
    "import warnings\n",
    "import matplotlib.pyplot as plt\n",
    "warnings.filterwarnings(action='once')\n",
    "data_red = pd.read_csv('~/frida_ml_repo/rm_ucl/msc_dsml/intro_to_stat_ds/assignment/data/winequality-red.csv',delimiter=';')\n",
    "data_white = pd.read_csv('~/frida_ml_repo/rm_ucl/msc_dsml/intro_to_stat_ds/assignment/data/winequality-white.csv',delimiter=';')"
   ]
  },
  {
   "cell_type": "markdown",
   "metadata": {},
   "source": [
    "#### Setting masks ####"
   ]
  },
  {
   "cell_type": "code",
   "execution_count": 23,
   "metadata": {},
   "outputs": [
    {
     "name": "stderr",
     "output_type": "stream",
     "text": [
      "/Users/rossmurphy/opt/anaconda3/lib/python3.7/site-packages/ipykernel/ipkernel.py:287: DeprecationWarning: `should_run_async` will not call `transform_cell` automatically in the future. Please pass the result to `transformed_cell` argument and any exception that happen during thetransform in `preprocessing_exc_tuple` in IPython 7.17 and above.\n",
      "  and should_run_async(code)\n"
     ]
    }
   ],
   "source": [
    "mask_low_red = (data_red['quality']<=4)\n",
    "mask_mid_red = ((data_red['quality']>4) & (data_red['quality']<7))\n",
    "mask_high_red = (data_red['quality']>=7)\n",
    "mask_all_red = (data_red['quality']>=0)\n",
    "\n",
    "\n",
    "mask_low_white = (data_white['quality']<=4)\n",
    "mask_mid_white = ((data_white['quality']>4) & data_white['quality']<7)\n",
    "mask_high_white = (data_white['quality']>=7)"
   ]
  },
  {
   "cell_type": "markdown",
   "metadata": {},
   "source": [
    "#### Defining functions ####"
   ]
  },
  {
   "cell_type": "code",
   "execution_count": 180,
   "metadata": {},
   "outputs": [],
   "source": [
    "def chisquare_func(mask_variable,column_variable,data_variable,bin_number=5,freedegree=1):\n",
    "\n",
    "    data_to_use = data_variable[mask_variable]\n",
    "    data_to_use['Bin'] = pd.cut(data_to_use[column_variable], data_to_use[column_variable].quantile(np.linspace(0.1,1,bin_number)).values)\n",
    "\n",
    "    normal_data = np.random.normal(data_to_use[column_variable].mean(),data_to_use[column_variable].std(),len(data_to_use))\n",
    "    normal_df = pd.DataFrame(normal_data,columns = [column_variable])\n",
    "    normal_df['Bin'] = pd.cut(normal_df[column_variable], normal_df[column_variable].quantile(np.linspace(0.1,1,bin_number)).values)\n",
    "\n",
    "    data_test = data_to_use.groupby('Bin').count()[column_variable]\n",
    "    normal_test = normal_df.groupby('Bin').count()[column_variable]\n",
    "    \n",
    "    min_data_test = np.min(data_test.values)\n",
    "    min_normal_test = np.min(normal_test.values)\n",
    "    \n",
    "    statistic , p_value = chisquare(data_test,normal_test,ddof=freedegree) \n",
    "    \n",
    "    print('the min count in a bin is {}'.format(np.min([min_data_test,min_normal_test])))\n",
    "    print('the degrees of freedom used is {}'.format(freedegree))\n",
    "    \n",
    "    return statistic, p_value\n",
    "\n",
    "def ks_func(mask_variable,column_variable,data_variable):\n",
    "\n",
    "    data_to_use = data_variable[mask_variable][column_variable]\n",
    "\n",
    "    statistic , p_value = kstest(data_to_use, 'norm', args=(data_to_use.mean(), data_to_use.std()))   \n",
    "    \n",
    "    return np.array([statistic, p_value])\n",
    "\n",
    "def anderson_func(mask_variable,column_variable,data_variable):\n",
    "\n",
    "    data_to_use = data_variable[mask_variable][column_variable]\n",
    "    stat = anderson(data_to_use, 'norm')[0]\n",
    "    fivecritical = anderson(data_to_use, 'norm')[1][2]\n",
    "    if stat > fivecritical:\n",
    "        booleanval = 'True'\n",
    "    else:\n",
    "        booleanval = 'False'\n",
    "    \n",
    "    return np.array([stat,fivecritical,booleanval])\n",
    "\n",
    "def anderson_func_old(mask_variable,column_variable,data_variable):\n",
    "\n",
    "    data_to_use = data_variable[mask_variable][column_variable]\n",
    "    anderson(data_to_use, 'norm')[0]\n",
    "    \n",
    "    return anderson(data_to_use, 'norm')\n",
    "\n",
    "\n",
    "def shapiro_func(mask_variable,column_variable,data_variable):\n",
    "\n",
    "    data_to_use = data_variable[mask_variable][column_variable]\n",
    "\n",
    "    return np.array([shapiro(data_to_use)])\n",
    "\n",
    "def compare_plot(mask_variable,column_variable,data_variable):\n",
    "    \n",
    "    data_to_use = data_variable[mask_variable][column_variable]\n",
    "\n",
    "    rvs = np.random.normal(data_to_use.mean(),data_to_use.std(),len(data_to_use))\n",
    "    \n",
    "    norm_cdf = scipy.stats.norm.cdf(rvs)\n",
    "    observed_cdf = scipy.stats.norm.cdf(data_to_use)\n",
    "    \n",
    "    sns.lineplot(x=rvs, y=norm_cdf)\n",
    "    sns.lineplot(x=data_to_use, y=observed_cdf)\n",
    "    plt.show()"
   ]
  },
  {
   "cell_type": "code",
   "execution_count": 4,
   "metadata": {},
   "outputs": [],
   "source": [
    "def new_chisquare_func(mask_variable,column_variable,data_variable,bin_number=5,freedegree=1):\n",
    "\n",
    "    bin_number = bin_number+1\n",
    "    data_to_use = data_variable[mask_variable]\n",
    "    data_to_use['Bin'] = pd.cut(data_to_use[column_variable], data_to_use[column_variable].quantile(np.linspace(0.00000,1,bin_number)).values)\n",
    "\n",
    "    normal_data = np.random.normal(data_to_use[column_variable].mean(),data_to_use[column_variable].std(),len(data_to_use)*100000)\n",
    "    normal_df = pd.DataFrame(normal_data,columns = [column_variable])\n",
    "    normal_df['Bin'] = pd.cut(normal_df[column_variable], data_to_use[column_variable].quantile(np.linspace(0.00000,1,bin_number)).values) # use same bin as observed\n",
    "\n",
    "    data_test = data_to_use.groupby('Bin').count()[column_variable]\n",
    "    data_test[0] = data_test.copy()[0]+1\n",
    "    normal_test = normal_df.groupby('Bin').count()[column_variable]\n",
    "    normal_test /= 100000.0\n",
    "    \n",
    "    min_data_test = np.min(data_test.values)\n",
    "    min_normal_test = np.min(normal_test.values)\n",
    "    \n",
    "    statistic , p_value = chisquare(data_test,normal_test,ddof=freedegree) \n",
    "    \n",
    "    print('the min count in a bin is {}'.format(np.min([min_data_test,min_normal_test])))\n",
    "    print('the degrees of freedom used is {}'.format(freedegree))\n",
    "    \n",
    "    return statistic, p_value"
   ]
  },
  {
   "cell_type": "markdown",
   "metadata": {},
   "source": [
    "#### Examples ####"
   ]
  },
  {
   "cell_type": "markdown",
   "metadata": {},
   "source": [
    "#### Testing the low and high quality subsets of the data using standard tests"
   ]
  },
  {
   "cell_type": "code",
   "execution_count": 181,
   "metadata": {},
   "outputs": [
    {
     "data": {
      "text/plain": [
       "array(['1.0104986663271234', '0.773', 'True'], dtype='<U32')"
      ]
     },
     "execution_count": 181,
     "metadata": {},
     "output_type": "execute_result"
    }
   ],
   "source": [
    "anderson_func(mask_variable=mask_high_red,column_variable='pH',data_variable=data_red)"
   ]
  },
  {
   "cell_type": "code",
   "execution_count": 175,
   "metadata": {},
   "outputs": [
    {
     "data": {
      "text/plain": [
       "AndersonResult(statistic=1.0104986663271234, critical_values=array([0.566, 0.644, 0.773, 0.902, 1.073]), significance_level=array([15. , 10. ,  5. ,  2.5,  1. ]))"
      ]
     },
     "execution_count": 175,
     "metadata": {},
     "output_type": "execute_result"
    }
   ],
   "source": [
    "anderson_func_old(mask_variable=mask_high_red,column_variable='pH',data_variable=data_red)"
   ]
  },
  {
   "cell_type": "markdown",
   "metadata": {},
   "source": [
    "#### Chi-Squared DF"
   ]
  },
  {
   "cell_type": "code",
   "execution_count": 33,
   "metadata": {
    "scrolled": true
   },
   "outputs": [
    {
     "name": "stdout",
     "output_type": "stream",
     "text": [
      "\\begin{tabular}{lrrr}\n",
      "\\toprule\n",
      "{} &  Test Statistic &  P-Value &  Bin Number \\\\\n",
      "\\midrule\n",
      "Low Quality    &          10.400 &    0.015 &       6.000 \\\\\n",
      "Medium Quality &         142.040 &    0.000 &      30.000 \\\\\n",
      "High Quality   &          17.340 &    0.137 &      15.000 \\\\\n",
      "Full Data      &          69.670 &    0.000 &      38.000 \\\\\n",
      "\\bottomrule\n",
      "\\end{tabular}\n",
      "\n"
     ]
    },
    {
     "name": "stderr",
     "output_type": "stream",
     "text": [
      "/Users/rossmurphy/opt/anaconda3/lib/python3.7/site-packages/ipykernel/ipkernel.py:287: DeprecationWarning: `should_run_async` will not call `transform_cell` automatically in the future. Please pass the result to `transformed_cell` argument and any exception that happen during thetransform in `preprocessing_exc_tuple` in IPython 7.17 and above.\n",
      "  and should_run_async(code)\n"
     ]
    }
   ],
   "source": [
    "dfforlatex = pd.DataFrame(index=['Low Quality','Medium Quality','High Quality','Full Data'],columns=['Test Statistic','P-Value','Bin Number'],data=0)\n",
    "dfforlatex.iloc[0,:] = np.array([10.4,0.015,6])\n",
    "dfforlatex.iloc[1,:] = np.array([142.04,1.41e-17,30])\n",
    "dfforlatex.iloc[2,:] = np.array([17.34,0.137,15])\n",
    "dfforlatex.iloc[3,:] = np.array([69.67,0.0004,38])\n",
    "print(dfforlatex.to_latex(float_format=lambda x: '%.3f' % x))"
   ]
  },
  {
   "cell_type": "markdown",
   "metadata": {},
   "source": [
    "### ks df"
   ]
  },
  {
   "cell_type": "code",
   "execution_count": 158,
   "metadata": {
    "scrolled": true
   },
   "outputs": [
    {
     "name": "stdout",
     "output_type": "stream",
     "text": [
      "\\begin{tabular}{lrr}\n",
      "\\toprule\n",
      "{} &  Test Statistic &   P-Value \\\\\n",
      "\\midrule\n",
      "Low Quality    &        0.104964 &  0.460299 \\\\\n",
      "Medium Quality &        0.037360 &  0.049080 \\\\\n",
      "High Quality   &        0.059608 &  0.407822 \\\\\n",
      "Full Data      &        0.040368 &  0.010605 \\\\\n",
      "\\bottomrule\n",
      "\\end{tabular}\n",
      "\n"
     ]
    }
   ],
   "source": [
    "ksdfforlatex = pd.DataFrame(index=['Low Quality','Medium Quality','High Quality','Full Data'],columns=['Test Statistic','P-Value'],data=0)\n",
    "ksdfforlatex.iloc[0,:] = ks_func(mask_variable=mask_low_red,column_variable='pH',data_variable=data_red)\n",
    "ksdfforlatex.iloc[1,:] = ks_func(mask_variable=mask_mid_red,column_variable='pH',data_variable=data_red)\n",
    "ksdfforlatex.iloc[2,:] = ks_func(mask_variable=mask_high_red,column_variable='pH',data_variable=data_red)\n",
    "ksdfforlatex.iloc[3,:] = ks_func(mask_variable=mask_all_red,column_variable='pH',data_variable=data_red)\n",
    "print(ksdfforlatex.to_latex())"
   ]
  },
  {
   "cell_type": "markdown",
   "metadata": {},
   "source": [
    "### Anderson df"
   ]
  },
  {
   "cell_type": "code",
   "execution_count": 182,
   "metadata": {},
   "outputs": [
    {
     "name": "stdout",
     "output_type": "stream",
     "text": [
      "\\begin{tabular}{llll}\n",
      "\\toprule\n",
      "{} &      Test Statistic & Corresponding Value & Evidence to reject H0 \\\\\n",
      "\\midrule\n",
      "Low Quality    &  0.8086981146405705 &               0.744 &                  True \\\\\n",
      "Medium Quality &  1.1574048865857094 &               0.785 &                  True \\\\\n",
      "High Quality   &  1.0104986663271234 &               0.773 &                  True \\\\\n",
      "Full Data      &  1.8641116106432492 &               0.785 &                  True \\\\\n",
      "\\bottomrule\n",
      "\\end{tabular}\n",
      "\n"
     ]
    }
   ],
   "source": [
    "andersonforlatex = pd.DataFrame(index=['Low Quality','Medium Quality','High Quality','Full Data'],columns=['Test Statistic','Corresponding Value','Evidence to reject H0'],data=0)\n",
    "andersonforlatex.iloc[0,:] = anderson_func(mask_variable=mask_low_red,column_variable='pH',data_variable=data_red)\n",
    "andersonforlatex.iloc[1,:] = anderson_func(mask_variable=mask_mid_red,column_variable='pH',data_variable=data_red)\n",
    "andersonforlatex.iloc[2,:] = anderson_func(mask_variable=mask_high_red,column_variable='pH',data_variable=data_red)\n",
    "andersonforlatex.iloc[3,:] = anderson_func(mask_variable=mask_all_red,column_variable='pH',data_variable=data_red)\n",
    "print(andersonforlatex.to_latex())"
   ]
  },
  {
   "cell_type": "markdown",
   "metadata": {},
   "source": [
    "### Shapiro df"
   ]
  },
  {
   "cell_type": "code",
   "execution_count": 129,
   "metadata": {
    "scrolled": false
   },
   "outputs": [
    {
     "name": "stdout",
     "output_type": "stream",
     "text": [
      "\\begin{tabular}{lrr}\n",
      "\\toprule\n",
      "{} &  Test Statistic &   P-Value \\\\\n",
      "\\midrule\n",
      "Low Quality    &        0.954216 &  0.019917 \\\\\n",
      "Medium Quality &        0.993535 &  0.000017 \\\\\n",
      "High Quality   &        0.983403 &  0.011940 \\\\\n",
      "Full Data      &        0.993487 &  0.000002 \\\\\n",
      "\\bottomrule\n",
      "\\end{tabular}\n",
      "\n"
     ]
    },
    {
     "name": "stderr",
     "output_type": "stream",
     "text": [
      "/Users/rossmurphy/opt/anaconda3/lib/python3.7/site-packages/ipykernel/ipkernel.py:287: DeprecationWarning: `should_run_async` will not call `transform_cell` automatically in the future. Please pass the result to `transformed_cell` argument and any exception that happen during thetransform in `preprocessing_exc_tuple` in IPython 7.17 and above.\n",
      "  and should_run_async(code)\n"
     ]
    }
   ],
   "source": [
    "shapirodfforlatex = pd.DataFrame(index=['Low Quality','Medium Quality','High Quality','Full Data'],columns=['Test Statistic','P-Value'],data=0)\n",
    "shapirodfforlatex.iloc[0,:] = shapiro_func(mask_variable=mask_low_red,column_variable='pH',data_variable=data_red)[0]\n",
    "shapirodfforlatex.iloc[1,:] = shapiro_func(mask_variable=mask_mid_red,column_variable='pH',data_variable=data_red)[0]\n",
    "shapirodfforlatex.iloc[2,:] = shapiro_func(mask_variable=mask_high_red,column_variable='pH',data_variable=data_red)[0]\n",
    "shapirodfforlatex.iloc[3,:] = shapiro_func(mask_variable=mask_all_red,column_variable='pH',data_variable=data_red)[0]\n",
    "print(shapirodfforlatex.to_latex())"
   ]
  },
  {
   "cell_type": "markdown",
   "metadata": {},
   "source": [
    "### Uniqueness df"
   ]
  },
  {
   "cell_type": "code",
   "execution_count": 156,
   "metadata": {
    "scrolled": true
   },
   "outputs": [
    {
     "name": "stdout",
     "output_type": "stream",
     "text": [
      "\\begin{tabular}{lrrl}\n",
      "\\toprule\n",
      "{} &  Nbr of Obs &  Nbr Unique Obs & \\% Unique \\\\\n",
      "\\midrule\n",
      "Low Quality    &          63 &              41 &      65\\% \\\\\n",
      "Medium Quality &        1319 &              86 &       7\\% \\\\\n",
      "High Quality   &         217 &              57 &      26\\% \\\\\n",
      "Full Data      &        1599 &              89 &       6\\% \\\\\n",
      "\\bottomrule\n",
      "\\end{tabular}\n",
      "\n"
     ]
    },
    {
     "name": "stderr",
     "output_type": "stream",
     "text": [
      "/Users/rossmurphy/opt/anaconda3/lib/python3.7/site-packages/ipykernel/ipkernel.py:287: DeprecationWarning: `should_run_async` will not call `transform_cell` automatically in the future. Please pass the result to `transformed_cell` argument and any exception that happen during thetransform in `preprocessing_exc_tuple` in IPython 7.17 and above.\n",
      "  and should_run_async(code)\n"
     ]
    }
   ],
   "source": [
    "uniqueness = pd.DataFrame(index=['Low Quality','Medium Quality','High Quality','Full Data'],columns=['Nbr of Obs','Nbr Unique Obs','% Unique'],data=0)\n",
    "uniqueness.iloc[0,0] = len(data_red[mask_low_red]['pH'])\n",
    "uniqueness.iloc[1,0] = len(data_red[mask_mid_red]['pH'])\n",
    "uniqueness.iloc[2,0] = len(data_red[mask_high_red]['pH'])\n",
    "uniqueness.iloc[3,0] = len(data_red[mask_all_red]['pH'])\n",
    "uniqueness.iloc[0,1] = data_red[mask_low_red]['pH'].nunique()\n",
    "uniqueness.iloc[1,1] = data_red[mask_mid_red]['pH'].nunique()\n",
    "uniqueness.iloc[2,1] = data_red[mask_high_red]['pH'].nunique()\n",
    "uniqueness.iloc[3,1] = data_red[mask_all_red]['pH'].nunique()\n",
    "uniqueness.iloc[:,2] = ((uniqueness.iloc[:,1] / uniqueness.iloc[:,0])*100).map('{:,.0f}%'.format)\n",
    "print(uniqueness.to_latex())"
   ]
  },
  {
   "cell_type": "markdown",
   "metadata": {},
   "source": [
    "### Continuity charts"
   ]
  },
  {
   "cell_type": "code",
   "execution_count": 126,
   "metadata": {},
   "outputs": [
    {
     "name": "stderr",
     "output_type": "stream",
     "text": [
      "/Users/rossmurphy/opt/anaconda3/lib/python3.7/site-packages/ipykernel/ipkernel.py:287: DeprecationWarning: `should_run_async` will not call `transform_cell` automatically in the future. Please pass the result to `transformed_cell` argument and any exception that happen during thetransform in `preprocessing_exc_tuple` in IPython 7.17 and above.\n",
      "  and should_run_async(code)\n"
     ]
    },
    {
     "data": {
      "text/plain": [
       "Text(769.0678104575164, 0.5, 'pH')"
      ]
     },
     "execution_count": 126,
     "metadata": {},
     "output_type": "execute_result"
    },
    {
     "data": {
      "text/plain": [
       "<Figure size 960x480 with 0 Axes>"
      ]
     },
     "metadata": {},
     "output_type": "display_data"
    },
    {
     "data": {
      "text/plain": [
       "<Figure size 1600x480 with 0 Axes>"
      ]
     },
     "metadata": {},
     "output_type": "display_data"
    },
    {
     "data": {
      "image/png": "[encoded data removed]",
      "text/plain": [
       "<Figure size 1200x400 with 3 Axes>"
      ]
     },
     "metadata": {},
     "output_type": "display_data"
    }
   ],
   "source": [
    "plt.style.use('default')\n",
    "fig = plt.figure(figsize=plt.figaspect(0.5))\n",
    "fig = plt.figure(figsize=plt.figaspect(0.3))\n",
    "fig, axs = plt.subplots(1, 3 ,figsize=(12,4))\n",
    "fig.tight_layout()\n",
    "# axs[0].set_xlim([0-10,len(data_red[mask_low_red]['pH'].sort_values().reset_index()['pH'])-10000])\n",
    "axs[0].plot(data_red[mask_low_red]['pH'].sort_values().reset_index()['pH'])\n",
    "axs[0].set_title(\"Low Quality\")\n",
    "axs[0].set_xlabel(\"Count\")\n",
    "axs[0].set_ylabel(\"pH\")\n",
    "\n",
    "axs[1].plot(data_red[mask_mid_red]['pH'].sort_values().reset_index()['pH'])\n",
    "axs[1].set_title(\"Medium Quality\")\n",
    "axs[1].set_xlabel(\"Count\")\n",
    "axs[1].set_ylabel(\"pH\")\n",
    "# axs[1].set_xlim([0-10,len(data_red[mask_mid_red]['pH'].sort_values().reset_index()['pH'])+10])\n",
    "\n",
    "\n",
    "axs[2].plot(data_red[mask_high_red]['pH'].sort_values().reset_index()['pH'])\n",
    "axs[2].set_title(\"High Quality\")\n",
    "axs[2].set_xlabel(\"Count\")\n",
    "axs[2].set_ylabel(\"pH\")\n",
    "# axs[2].set_xlim([0-10,len(data_red[mask_high_red]['pH'].sort_values().reset_index()['pH'])+10])\n",
    "\n"
   ]
  },
  {
   "cell_type": "markdown",
   "metadata": {},
   "source": [
    "##### What one sees is that we reject the null hypothesis of normality for all tests bar the kolmogorov smirnov test ... (write about why this is)"
   ]
  },
  {
   "cell_type": "markdown",
   "metadata": {},
   "source": [
    "###### Splitting the data into smaller subsets however... cannot reject normality"
   ]
  },
  {
   "cell_type": "code",
   "execution_count": 147,
   "metadata": {},
   "outputs": [
    {
     "data": {
      "text/plain": [
       "ShapiroResult(statistic=0.9842842817306519, pvalue=0.4165293574333191)"
      ]
     },
     "execution_count": 147,
     "metadata": {},
     "output_type": "execute_result"
    }
   ],
   "source": [
    "hail_mary_split = 'density'\n",
    "shapiro(data_red[(data_red[hail_mary_split]>data_red[hail_mary_split].mean()) & (data_red['quality']>=7)]['pH'])"
   ]
  },
  {
   "cell_type": "markdown",
   "metadata": {},
   "source": [
    "###### Also looking at the distribution of the log of the pH values"
   ]
  },
  {
   "cell_type": "code",
   "execution_count": 151,
   "metadata": {},
   "outputs": [
    {
     "data": {
      "text/plain": [
       "ShapiroResult(statistic=0.9881590604782104, pvalue=0.06957180052995682)"
      ]
     },
     "execution_count": 151,
     "metadata": {},
     "output_type": "execute_result"
    }
   ],
   "source": [
    "shapiro(np.log(data_red[mask_high_red]['pH']))"
   ]
  },
  {
   "cell_type": "code",
   "execution_count": 152,
   "metadata": {},
   "outputs": [
    {
     "data": {
      "text/plain": [
       "KstestResult(statistic=0.05651450169434502, pvalue=0.47512455332556935)"
      ]
     },
     "execution_count": 152,
     "metadata": {},
     "output_type": "execute_result"
    }
   ],
   "source": [
    "kstest(np.log(data_red[mask_high_red]['pH']), 'norm', args=(np.log(data_red[mask_high_red]['pH']).mean(), np.log(data_red[mask_high_red]['pH']).std()))   "
   ]
  },
  {
   "cell_type": "code",
   "execution_count": 155,
   "metadata": {},
   "outputs": [
    {
     "data": {
      "text/plain": [
       "AndersonResult(statistic=0.7994471063447577, critical_values=array([0.566, 0.644, 0.773, 0.902, 1.073]), significance_level=array([15. , 10. ,  5. ,  2.5,  1. ]))"
      ]
     },
     "execution_count": 155,
     "metadata": {},
     "output_type": "execute_result"
    }
   ],
   "source": [
    "anderson(np.log(data_red[mask_high_red]['pH']), 'norm')   "
   ]
  },
  {
   "cell_type": "code",
   "execution_count": 134,
   "metadata": {},
   "outputs": [
    {
     "data": {
      "text/html": [
       "<div>\n",
       "<style scoped>\n",
       "    .dataframe tbody tr th:only-of-type {\n",
       "        vertical-align: middle;\n",
       "    }\n",
       "\n",
       "    .dataframe tbody tr th {\n",
       "        vertical-align: top;\n",
       "    }\n",
       "\n",
       "    .dataframe thead th {\n",
       "        text-align: right;\n",
       "    }\n",
       "</style>\n",
       "<table border=\"1\" class=\"dataframe\">\n",
       "  <thead>\n",
       "    <tr style=\"text-align: right;\">\n",
       "      <th></th>\n",
       "      <th>fixed acidity</th>\n",
       "      <th>volatile acidity</th>\n",
       "      <th>citric acid</th>\n",
       "      <th>residual sugar</th>\n",
       "      <th>chlorides</th>\n",
       "      <th>free sulfur dioxide</th>\n",
       "      <th>total sulfur dioxide</th>\n",
       "      <th>density</th>\n",
       "      <th>pH</th>\n",
       "      <th>sulphates</th>\n",
       "      <th>alcohol</th>\n",
       "      <th>quality</th>\n",
       "    </tr>\n",
       "  </thead>\n",
       "  <tbody>\n",
       "    <tr>\n",
       "      <th>count</th>\n",
       "      <td>1599.000000</td>\n",
       "      <td>1599.000000</td>\n",
       "      <td>1599.000000</td>\n",
       "      <td>1599.000000</td>\n",
       "      <td>1599.000000</td>\n",
       "      <td>1599.000000</td>\n",
       "      <td>1599.000000</td>\n",
       "      <td>1599.000000</td>\n",
       "      <td>1599.000000</td>\n",
       "      <td>1599.000000</td>\n",
       "      <td>1599.000000</td>\n",
       "      <td>1599.000000</td>\n",
       "    </tr>\n",
       "    <tr>\n",
       "      <th>mean</th>\n",
       "      <td>8.319637</td>\n",
       "      <td>0.527821</td>\n",
       "      <td>0.270976</td>\n",
       "      <td>2.538806</td>\n",
       "      <td>0.087467</td>\n",
       "      <td>15.874922</td>\n",
       "      <td>46.467792</td>\n",
       "      <td>0.996747</td>\n",
       "      <td>3.311113</td>\n",
       "      <td>0.658149</td>\n",
       "      <td>10.422983</td>\n",
       "      <td>5.636023</td>\n",
       "    </tr>\n",
       "    <tr>\n",
       "      <th>std</th>\n",
       "      <td>1.741096</td>\n",
       "      <td>0.179060</td>\n",
       "      <td>0.194801</td>\n",
       "      <td>1.409928</td>\n",
       "      <td>0.047065</td>\n",
       "      <td>10.460157</td>\n",
       "      <td>32.895324</td>\n",
       "      <td>0.001887</td>\n",
       "      <td>0.154386</td>\n",
       "      <td>0.169507</td>\n",
       "      <td>1.065668</td>\n",
       "      <td>0.807569</td>\n",
       "    </tr>\n",
       "    <tr>\n",
       "      <th>min</th>\n",
       "      <td>4.600000</td>\n",
       "      <td>0.120000</td>\n",
       "      <td>0.000000</td>\n",
       "      <td>0.900000</td>\n",
       "      <td>0.012000</td>\n",
       "      <td>1.000000</td>\n",
       "      <td>6.000000</td>\n",
       "      <td>0.990070</td>\n",
       "      <td>2.740000</td>\n",
       "      <td>0.330000</td>\n",
       "      <td>8.400000</td>\n",
       "      <td>3.000000</td>\n",
       "    </tr>\n",
       "    <tr>\n",
       "      <th>25%</th>\n",
       "      <td>7.100000</td>\n",
       "      <td>0.390000</td>\n",
       "      <td>0.090000</td>\n",
       "      <td>1.900000</td>\n",
       "      <td>0.070000</td>\n",
       "      <td>7.000000</td>\n",
       "      <td>22.000000</td>\n",
       "      <td>0.995600</td>\n",
       "      <td>3.210000</td>\n",
       "      <td>0.550000</td>\n",
       "      <td>9.500000</td>\n",
       "      <td>5.000000</td>\n",
       "    </tr>\n",
       "    <tr>\n",
       "      <th>50%</th>\n",
       "      <td>7.900000</td>\n",
       "      <td>0.520000</td>\n",
       "      <td>0.260000</td>\n",
       "      <td>2.200000</td>\n",
       "      <td>0.079000</td>\n",
       "      <td>14.000000</td>\n",
       "      <td>38.000000</td>\n",
       "      <td>0.996750</td>\n",
       "      <td>3.310000</td>\n",
       "      <td>0.620000</td>\n",
       "      <td>10.200000</td>\n",
       "      <td>6.000000</td>\n",
       "    </tr>\n",
       "    <tr>\n",
       "      <th>75%</th>\n",
       "      <td>9.200000</td>\n",
       "      <td>0.640000</td>\n",
       "      <td>0.420000</td>\n",
       "      <td>2.600000</td>\n",
       "      <td>0.090000</td>\n",
       "      <td>21.000000</td>\n",
       "      <td>62.000000</td>\n",
       "      <td>0.997835</td>\n",
       "      <td>3.400000</td>\n",
       "      <td>0.730000</td>\n",
       "      <td>11.100000</td>\n",
       "      <td>6.000000</td>\n",
       "    </tr>\n",
       "    <tr>\n",
       "      <th>max</th>\n",
       "      <td>15.900000</td>\n",
       "      <td>1.580000</td>\n",
       "      <td>1.000000</td>\n",
       "      <td>15.500000</td>\n",
       "      <td>0.611000</td>\n",
       "      <td>72.000000</td>\n",
       "      <td>289.000000</td>\n",
       "      <td>1.003690</td>\n",
       "      <td>4.010000</td>\n",
       "      <td>2.000000</td>\n",
       "      <td>14.900000</td>\n",
       "      <td>8.000000</td>\n",
       "    </tr>\n",
       "  </tbody>\n",
       "</table>\n",
       "</div>"
      ],
      "text/plain": [
       "       fixed acidity  volatile acidity  citric acid  residual sugar  \\\n",
       "count    1599.000000       1599.000000  1599.000000     1599.000000   \n",
       "mean        8.319637          0.527821     0.270976        2.538806   \n",
       "std         1.741096          0.179060     0.194801        1.409928   \n",
       "min         4.600000          0.120000     0.000000        0.900000   \n",
       "25%         7.100000          0.390000     0.090000        1.900000   \n",
       "50%         7.900000          0.520000     0.260000        2.200000   \n",
       "75%         9.200000          0.640000     0.420000        2.600000   \n",
       "max        15.900000          1.580000     1.000000       15.500000   \n",
       "\n",
       "         chlorides  free sulfur dioxide  total sulfur dioxide      density  \\\n",
       "count  1599.000000          1599.000000           1599.000000  1599.000000   \n",
       "mean      0.087467            15.874922             46.467792     0.996747   \n",
       "std       0.047065            10.460157             32.895324     0.001887   \n",
       "min       0.012000             1.000000              6.000000     0.990070   \n",
       "25%       0.070000             7.000000             22.000000     0.995600   \n",
       "50%       0.079000            14.000000             38.000000     0.996750   \n",
       "75%       0.090000            21.000000             62.000000     0.997835   \n",
       "max       0.611000            72.000000            289.000000     1.003690   \n",
       "\n",
       "                pH    sulphates      alcohol      quality  \n",
       "count  1599.000000  1599.000000  1599.000000  1599.000000  \n",
       "mean      3.311113     0.658149    10.422983     5.636023  \n",
       "std       0.154386     0.169507     1.065668     0.807569  \n",
       "min       2.740000     0.330000     8.400000     3.000000  \n",
       "25%       3.210000     0.550000     9.500000     5.000000  \n",
       "50%       3.310000     0.620000    10.200000     6.000000  \n",
       "75%       3.400000     0.730000    11.100000     6.000000  \n",
       "max       4.010000     2.000000    14.900000     8.000000  "
      ]
     },
     "execution_count": 134,
     "metadata": {},
     "output_type": "execute_result"
    }
   ],
   "source": [
    "data_red.describe()"
   ]
  },
  {
   "cell_type": "markdown",
   "metadata": {},
   "source": [
    "#### Plots for project ####"
   ]
  },
  {
   "cell_type": "code",
   "execution_count": 97,
   "metadata": {},
   "outputs": [
    {
     "data": {
      "image/png": "[encoded data removed]",
      "text/plain": [
       "<Figure size 432x288 with 1 Axes>"
      ]
     },
     "metadata": {
      "needs_background": "light"
     },
     "output_type": "display_data"
    }
   ],
   "source": [
    "compare_plot(mask_mid_red,'pH',data_red)"
   ]
  },
  {
   "cell_type": "code",
   "execution_count": null,
   "metadata": {},
   "outputs": [],
   "source": []
  },
  {
   "cell_type": "code",
   "execution_count": null,
   "metadata": {},
   "outputs": [],
   "source": []
  },
  {
   "cell_type": "code",
   "execution_count": null,
   "metadata": {},
   "outputs": [],
   "source": []
  }
 ],
 "metadata": {
  "kernelspec": {
   "display_name": "Python 3",
   "language": "python",
   "name": "python3"
  },
  "language_info": {
   "codemirror_mode": {
    "name": "ipython",
    "version": 3
   },
   "file_extension": ".py",
   "mimetype": "text/x-python",
   "name": "python",
   "nbconvert_exporter": "python",
   "pygments_lexer": "ipython3",
   "version": "3.7.6"
  }
 },
 "nbformat": 4,
 "nbformat_minor": 4
}
