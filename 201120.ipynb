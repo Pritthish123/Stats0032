{
 "cells": [
  {
   "cell_type": "markdown",
   "metadata": {},
   "source": [
    "#### Importing libraries and data ####"
   ]
  },
  {
   "cell_type": "code",
   "execution_count": 1,
   "metadata": {
    "scrolled": true
   },
   "outputs": [],
   "source": [
    "import numpy as np\n",
    "import pandas as pd\n",
    "import scipy\n",
    "import seaborn as sns\n",
    "from scipy.stats import chisquare\n",
    "from scipy.stats import kstest\n",
    "import warnings\n",
    "import matplotlib.pyplot as plt\n",
    "warnings.filterwarnings(action='once')\n",
    "data_red = pd.read_csv(r'C:\\Users\\DEll\\Stats0032-main\\Stats0032-main\\winequality-red.csv',delimiter=';')\n",
    "data_white = pd.read_csv(r'C:\\Users\\DEll\\Stats0032-main\\Stats0032-main\\winequality-white.csv',delimiter=';')\n",
    "\n",
    "\n",
    "# data_red = pd.read_csv('~/frida_ml_repo/rm_ucl/msc_dsml/intro_to_stat_ds/assignment/data/winequality-red.csv',delimiter=';')\n",
    "# data_white = pd.read_csv('~/frida_ml_repo/rm_ucl/msc_dsml/intro_to_stat_ds/assignment/data/winequality-white.csv',delimiter=';')"
   ]
  },
  {
   "cell_type": "code",
   "execution_count": 2,
   "metadata": {},
   "outputs": [
    {
     "name": "stderr",
     "output_type": "stream",
     "text": [
      "d:\\python3.8.4rc1\\lib\\site-packages\\ipykernel\\ipkernel.py:287: DeprecationWarning: `should_run_async` will not call `transform_cell` automatically in the future. Please pass the result to `transformed_cell` argument and any exception that happen during thetransform in `preprocessing_exc_tuple` in IPython 7.17 and above.\n",
      "  and should_run_async(code)\n"
     ]
    },
    {
     "data": {
      "text/html": [
       "<div>\n",
       "<style scoped>\n",
       "    .dataframe tbody tr th:only-of-type {\n",
       "        vertical-align: middle;\n",
       "    }\n",
       "\n",
       "    .dataframe tbody tr th {\n",
       "        vertical-align: top;\n",
       "    }\n",
       "\n",
       "    .dataframe thead th {\n",
       "        text-align: right;\n",
       "    }\n",
       "</style>\n",
       "<table border=\"1\" class=\"dataframe\">\n",
       "  <thead>\n",
       "    <tr style=\"text-align: right;\">\n",
       "      <th></th>\n",
       "      <th>fixed acidity</th>\n",
       "      <th>volatile acidity</th>\n",
       "      <th>citric acid</th>\n",
       "      <th>residual sugar</th>\n",
       "      <th>chlorides</th>\n",
       "      <th>free sulfur dioxide</th>\n",
       "      <th>total sulfur dioxide</th>\n",
       "      <th>density</th>\n",
       "      <th>pH</th>\n",
       "      <th>sulphates</th>\n",
       "      <th>alcohol</th>\n",
       "      <th>quality</th>\n",
       "    </tr>\n",
       "  </thead>\n",
       "  <tbody>\n",
       "    <tr>\n",
       "      <th>0</th>\n",
       "      <td>7.4</td>\n",
       "      <td>0.700</td>\n",
       "      <td>0.00</td>\n",
       "      <td>1.9</td>\n",
       "      <td>0.076</td>\n",
       "      <td>11.0</td>\n",
       "      <td>34.0</td>\n",
       "      <td>0.99780</td>\n",
       "      <td>3.51</td>\n",
       "      <td>0.56</td>\n",
       "      <td>9.4</td>\n",
       "      <td>5</td>\n",
       "    </tr>\n",
       "    <tr>\n",
       "      <th>1</th>\n",
       "      <td>7.8</td>\n",
       "      <td>0.880</td>\n",
       "      <td>0.00</td>\n",
       "      <td>2.6</td>\n",
       "      <td>0.098</td>\n",
       "      <td>25.0</td>\n",
       "      <td>67.0</td>\n",
       "      <td>0.99680</td>\n",
       "      <td>3.20</td>\n",
       "      <td>0.68</td>\n",
       "      <td>9.8</td>\n",
       "      <td>5</td>\n",
       "    </tr>\n",
       "    <tr>\n",
       "      <th>2</th>\n",
       "      <td>7.8</td>\n",
       "      <td>0.760</td>\n",
       "      <td>0.04</td>\n",
       "      <td>2.3</td>\n",
       "      <td>0.092</td>\n",
       "      <td>15.0</td>\n",
       "      <td>54.0</td>\n",
       "      <td>0.99700</td>\n",
       "      <td>3.26</td>\n",
       "      <td>0.65</td>\n",
       "      <td>9.8</td>\n",
       "      <td>5</td>\n",
       "    </tr>\n",
       "    <tr>\n",
       "      <th>3</th>\n",
       "      <td>11.2</td>\n",
       "      <td>0.280</td>\n",
       "      <td>0.56</td>\n",
       "      <td>1.9</td>\n",
       "      <td>0.075</td>\n",
       "      <td>17.0</td>\n",
       "      <td>60.0</td>\n",
       "      <td>0.99800</td>\n",
       "      <td>3.16</td>\n",
       "      <td>0.58</td>\n",
       "      <td>9.8</td>\n",
       "      <td>6</td>\n",
       "    </tr>\n",
       "    <tr>\n",
       "      <th>4</th>\n",
       "      <td>7.4</td>\n",
       "      <td>0.700</td>\n",
       "      <td>0.00</td>\n",
       "      <td>1.9</td>\n",
       "      <td>0.076</td>\n",
       "      <td>11.0</td>\n",
       "      <td>34.0</td>\n",
       "      <td>0.99780</td>\n",
       "      <td>3.51</td>\n",
       "      <td>0.56</td>\n",
       "      <td>9.4</td>\n",
       "      <td>5</td>\n",
       "    </tr>\n",
       "    <tr>\n",
       "      <th>...</th>\n",
       "      <td>...</td>\n",
       "      <td>...</td>\n",
       "      <td>...</td>\n",
       "      <td>...</td>\n",
       "      <td>...</td>\n",
       "      <td>...</td>\n",
       "      <td>...</td>\n",
       "      <td>...</td>\n",
       "      <td>...</td>\n",
       "      <td>...</td>\n",
       "      <td>...</td>\n",
       "      <td>...</td>\n",
       "    </tr>\n",
       "    <tr>\n",
       "      <th>1594</th>\n",
       "      <td>6.2</td>\n",
       "      <td>0.600</td>\n",
       "      <td>0.08</td>\n",
       "      <td>2.0</td>\n",
       "      <td>0.090</td>\n",
       "      <td>32.0</td>\n",
       "      <td>44.0</td>\n",
       "      <td>0.99490</td>\n",
       "      <td>3.45</td>\n",
       "      <td>0.58</td>\n",
       "      <td>10.5</td>\n",
       "      <td>5</td>\n",
       "    </tr>\n",
       "    <tr>\n",
       "      <th>1595</th>\n",
       "      <td>5.9</td>\n",
       "      <td>0.550</td>\n",
       "      <td>0.10</td>\n",
       "      <td>2.2</td>\n",
       "      <td>0.062</td>\n",
       "      <td>39.0</td>\n",
       "      <td>51.0</td>\n",
       "      <td>0.99512</td>\n",
       "      <td>3.52</td>\n",
       "      <td>0.76</td>\n",
       "      <td>11.2</td>\n",
       "      <td>6</td>\n",
       "    </tr>\n",
       "    <tr>\n",
       "      <th>1596</th>\n",
       "      <td>6.3</td>\n",
       "      <td>0.510</td>\n",
       "      <td>0.13</td>\n",
       "      <td>2.3</td>\n",
       "      <td>0.076</td>\n",
       "      <td>29.0</td>\n",
       "      <td>40.0</td>\n",
       "      <td>0.99574</td>\n",
       "      <td>3.42</td>\n",
       "      <td>0.75</td>\n",
       "      <td>11.0</td>\n",
       "      <td>6</td>\n",
       "    </tr>\n",
       "    <tr>\n",
       "      <th>1597</th>\n",
       "      <td>5.9</td>\n",
       "      <td>0.645</td>\n",
       "      <td>0.12</td>\n",
       "      <td>2.0</td>\n",
       "      <td>0.075</td>\n",
       "      <td>32.0</td>\n",
       "      <td>44.0</td>\n",
       "      <td>0.99547</td>\n",
       "      <td>3.57</td>\n",
       "      <td>0.71</td>\n",
       "      <td>10.2</td>\n",
       "      <td>5</td>\n",
       "    </tr>\n",
       "    <tr>\n",
       "      <th>1598</th>\n",
       "      <td>6.0</td>\n",
       "      <td>0.310</td>\n",
       "      <td>0.47</td>\n",
       "      <td>3.6</td>\n",
       "      <td>0.067</td>\n",
       "      <td>18.0</td>\n",
       "      <td>42.0</td>\n",
       "      <td>0.99549</td>\n",
       "      <td>3.39</td>\n",
       "      <td>0.66</td>\n",
       "      <td>11.0</td>\n",
       "      <td>6</td>\n",
       "    </tr>\n",
       "  </tbody>\n",
       "</table>\n",
       "<p>1599 rows × 12 columns</p>\n",
       "</div>"
      ],
      "text/plain": [
       "      fixed acidity  volatile acidity  citric acid  residual sugar  chlorides  \\\n",
       "0               7.4             0.700         0.00             1.9      0.076   \n",
       "1               7.8             0.880         0.00             2.6      0.098   \n",
       "2               7.8             0.760         0.04             2.3      0.092   \n",
       "3              11.2             0.280         0.56             1.9      0.075   \n",
       "4               7.4             0.700         0.00             1.9      0.076   \n",
       "...             ...               ...          ...             ...        ...   \n",
       "1594            6.2             0.600         0.08             2.0      0.090   \n",
       "1595            5.9             0.550         0.10             2.2      0.062   \n",
       "1596            6.3             0.510         0.13             2.3      0.076   \n",
       "1597            5.9             0.645         0.12             2.0      0.075   \n",
       "1598            6.0             0.310         0.47             3.6      0.067   \n",
       "\n",
       "      free sulfur dioxide  total sulfur dioxide  density    pH  sulphates  \\\n",
       "0                    11.0                  34.0  0.99780  3.51       0.56   \n",
       "1                    25.0                  67.0  0.99680  3.20       0.68   \n",
       "2                    15.0                  54.0  0.99700  3.26       0.65   \n",
       "3                    17.0                  60.0  0.99800  3.16       0.58   \n",
       "4                    11.0                  34.0  0.99780  3.51       0.56   \n",
       "...                   ...                   ...      ...   ...        ...   \n",
       "1594                 32.0                  44.0  0.99490  3.45       0.58   \n",
       "1595                 39.0                  51.0  0.99512  3.52       0.76   \n",
       "1596                 29.0                  40.0  0.99574  3.42       0.75   \n",
       "1597                 32.0                  44.0  0.99547  3.57       0.71   \n",
       "1598                 18.0                  42.0  0.99549  3.39       0.66   \n",
       "\n",
       "      alcohol  quality  \n",
       "0         9.4        5  \n",
       "1         9.8        5  \n",
       "2         9.8        5  \n",
       "3         9.8        6  \n",
       "4         9.4        5  \n",
       "...       ...      ...  \n",
       "1594     10.5        5  \n",
       "1595     11.2        6  \n",
       "1596     11.0        6  \n",
       "1597     10.2        5  \n",
       "1598     11.0        6  \n",
       "\n",
       "[1599 rows x 12 columns]"
      ]
     },
     "execution_count": 2,
     "metadata": {},
     "output_type": "execute_result"
    }
   ],
   "source": [
    "data_red"
   ]
  },
  {
   "cell_type": "markdown",
   "metadata": {},
   "source": [
    "#### Setting masks ####"
   ]
  },
  {
   "cell_type": "code",
   "execution_count": 3,
   "metadata": {},
   "outputs": [
    {
     "name": "stderr",
     "output_type": "stream",
     "text": [
      "d:\\python3.8.4rc1\\lib\\site-packages\\ipykernel\\ipkernel.py:287: DeprecationWarning: `should_run_async` will not call `transform_cell` automatically in the future. Please pass the result to `transformed_cell` argument and any exception that happen during thetransform in `preprocessing_exc_tuple` in IPython 7.17 and above.\n",
      "  and should_run_async(code)\n"
     ]
    }
   ],
   "source": [
    "mask_low_red = (data_red['quality']<=4)\n",
    "mask_mid_red = ((data_red['quality']>4) & (data_red['quality']<7))\n",
    "mask_high_red = (data_red['quality']>=7)\n",
    "\n",
    "mask_low_white = (data_white['quality']<=4)\n",
    "mask_mid_white = ((data_white['quality']>4) & data_white['quality']<7)\n",
    "mask_high_white = (data_white['quality']>=7)"
   ]
  },
  {
   "cell_type": "code",
   "execution_count": 4,
   "metadata": {
    "collapsed": true
   },
   "outputs": [
    {
     "name": "stderr",
     "output_type": "stream",
     "text": [
      "d:\\python3.8.4rc1\\lib\\site-packages\\ipykernel\\ipkernel.py:287: DeprecationWarning: `should_run_async` will not call `transform_cell` automatically in the future. Please pass the result to `transformed_cell` argument and any exception that happen during thetransform in `preprocessing_exc_tuple` in IPython 7.17 and above.\n",
      "  and should_run_async(code)\n"
     ]
    },
    {
     "data": {
      "text/html": [
       "<div>\n",
       "<style scoped>\n",
       "    .dataframe tbody tr th:only-of-type {\n",
       "        vertical-align: middle;\n",
       "    }\n",
       "\n",
       "    .dataframe tbody tr th {\n",
       "        vertical-align: top;\n",
       "    }\n",
       "\n",
       "    .dataframe thead th {\n",
       "        text-align: right;\n",
       "    }\n",
       "</style>\n",
       "<table border=\"1\" class=\"dataframe\">\n",
       "  <thead>\n",
       "    <tr style=\"text-align: right;\">\n",
       "      <th></th>\n",
       "      <th>fixed acidity</th>\n",
       "      <th>volatile acidity</th>\n",
       "      <th>citric acid</th>\n",
       "      <th>residual sugar</th>\n",
       "      <th>chlorides</th>\n",
       "      <th>free sulfur dioxide</th>\n",
       "      <th>total sulfur dioxide</th>\n",
       "      <th>density</th>\n",
       "      <th>pH</th>\n",
       "      <th>sulphates</th>\n",
       "      <th>alcohol</th>\n",
       "      <th>quality</th>\n",
       "    </tr>\n",
       "  </thead>\n",
       "  <tbody>\n",
       "    <tr>\n",
       "      <th>18</th>\n",
       "      <td>7.4</td>\n",
       "      <td>0.590</td>\n",
       "      <td>0.08</td>\n",
       "      <td>4.4</td>\n",
       "      <td>0.086</td>\n",
       "      <td>6.0</td>\n",
       "      <td>29.0</td>\n",
       "      <td>0.99740</td>\n",
       "      <td>3.38</td>\n",
       "      <td>0.50</td>\n",
       "      <td>9.00</td>\n",
       "      <td>4</td>\n",
       "    </tr>\n",
       "    <tr>\n",
       "      <th>38</th>\n",
       "      <td>5.7</td>\n",
       "      <td>1.130</td>\n",
       "      <td>0.09</td>\n",
       "      <td>1.5</td>\n",
       "      <td>0.172</td>\n",
       "      <td>7.0</td>\n",
       "      <td>19.0</td>\n",
       "      <td>0.99400</td>\n",
       "      <td>3.50</td>\n",
       "      <td>0.48</td>\n",
       "      <td>9.80</td>\n",
       "      <td>4</td>\n",
       "    </tr>\n",
       "    <tr>\n",
       "      <th>41</th>\n",
       "      <td>8.8</td>\n",
       "      <td>0.610</td>\n",
       "      <td>0.30</td>\n",
       "      <td>2.8</td>\n",
       "      <td>0.088</td>\n",
       "      <td>17.0</td>\n",
       "      <td>46.0</td>\n",
       "      <td>0.99760</td>\n",
       "      <td>3.26</td>\n",
       "      <td>0.51</td>\n",
       "      <td>9.30</td>\n",
       "      <td>4</td>\n",
       "    </tr>\n",
       "    <tr>\n",
       "      <th>45</th>\n",
       "      <td>4.6</td>\n",
       "      <td>0.520</td>\n",
       "      <td>0.15</td>\n",
       "      <td>2.1</td>\n",
       "      <td>0.054</td>\n",
       "      <td>8.0</td>\n",
       "      <td>65.0</td>\n",
       "      <td>0.99340</td>\n",
       "      <td>3.90</td>\n",
       "      <td>0.56</td>\n",
       "      <td>13.10</td>\n",
       "      <td>4</td>\n",
       "    </tr>\n",
       "    <tr>\n",
       "      <th>73</th>\n",
       "      <td>8.3</td>\n",
       "      <td>0.675</td>\n",
       "      <td>0.26</td>\n",
       "      <td>2.1</td>\n",
       "      <td>0.084</td>\n",
       "      <td>11.0</td>\n",
       "      <td>43.0</td>\n",
       "      <td>0.99760</td>\n",
       "      <td>3.31</td>\n",
       "      <td>0.53</td>\n",
       "      <td>9.20</td>\n",
       "      <td>4</td>\n",
       "    </tr>\n",
       "    <tr>\n",
       "      <th>...</th>\n",
       "      <td>...</td>\n",
       "      <td>...</td>\n",
       "      <td>...</td>\n",
       "      <td>...</td>\n",
       "      <td>...</td>\n",
       "      <td>...</td>\n",
       "      <td>...</td>\n",
       "      <td>...</td>\n",
       "      <td>...</td>\n",
       "      <td>...</td>\n",
       "      <td>...</td>\n",
       "      <td>...</td>\n",
       "    </tr>\n",
       "    <tr>\n",
       "      <th>1480</th>\n",
       "      <td>5.6</td>\n",
       "      <td>0.620</td>\n",
       "      <td>0.03</td>\n",
       "      <td>1.5</td>\n",
       "      <td>0.080</td>\n",
       "      <td>6.0</td>\n",
       "      <td>13.0</td>\n",
       "      <td>0.99498</td>\n",
       "      <td>3.66</td>\n",
       "      <td>0.62</td>\n",
       "      <td>10.10</td>\n",
       "      <td>4</td>\n",
       "    </tr>\n",
       "    <tr>\n",
       "      <th>1482</th>\n",
       "      <td>7.2</td>\n",
       "      <td>0.580</td>\n",
       "      <td>0.54</td>\n",
       "      <td>2.1</td>\n",
       "      <td>0.114</td>\n",
       "      <td>3.0</td>\n",
       "      <td>9.0</td>\n",
       "      <td>0.99719</td>\n",
       "      <td>3.33</td>\n",
       "      <td>0.57</td>\n",
       "      <td>10.30</td>\n",
       "      <td>4</td>\n",
       "    </tr>\n",
       "    <tr>\n",
       "      <th>1484</th>\n",
       "      <td>6.8</td>\n",
       "      <td>0.910</td>\n",
       "      <td>0.06</td>\n",
       "      <td>2.0</td>\n",
       "      <td>0.060</td>\n",
       "      <td>4.0</td>\n",
       "      <td>11.0</td>\n",
       "      <td>0.99592</td>\n",
       "      <td>3.53</td>\n",
       "      <td>0.64</td>\n",
       "      <td>10.90</td>\n",
       "      <td>4</td>\n",
       "    </tr>\n",
       "    <tr>\n",
       "      <th>1505</th>\n",
       "      <td>6.7</td>\n",
       "      <td>0.760</td>\n",
       "      <td>0.02</td>\n",
       "      <td>1.8</td>\n",
       "      <td>0.078</td>\n",
       "      <td>6.0</td>\n",
       "      <td>12.0</td>\n",
       "      <td>0.99600</td>\n",
       "      <td>3.55</td>\n",
       "      <td>0.63</td>\n",
       "      <td>9.95</td>\n",
       "      <td>3</td>\n",
       "    </tr>\n",
       "    <tr>\n",
       "      <th>1521</th>\n",
       "      <td>6.9</td>\n",
       "      <td>0.480</td>\n",
       "      <td>0.20</td>\n",
       "      <td>1.9</td>\n",
       "      <td>0.082</td>\n",
       "      <td>9.0</td>\n",
       "      <td>23.0</td>\n",
       "      <td>0.99585</td>\n",
       "      <td>3.39</td>\n",
       "      <td>0.43</td>\n",
       "      <td>9.05</td>\n",
       "      <td>4</td>\n",
       "    </tr>\n",
       "  </tbody>\n",
       "</table>\n",
       "<p>63 rows × 12 columns</p>\n",
       "</div>"
      ],
      "text/plain": [
       "      fixed acidity  volatile acidity  citric acid  residual sugar  chlorides  \\\n",
       "18              7.4             0.590         0.08             4.4      0.086   \n",
       "38              5.7             1.130         0.09             1.5      0.172   \n",
       "41              8.8             0.610         0.30             2.8      0.088   \n",
       "45              4.6             0.520         0.15             2.1      0.054   \n",
       "73              8.3             0.675         0.26             2.1      0.084   \n",
       "...             ...               ...          ...             ...        ...   \n",
       "1480            5.6             0.620         0.03             1.5      0.080   \n",
       "1482            7.2             0.580         0.54             2.1      0.114   \n",
       "1484            6.8             0.910         0.06             2.0      0.060   \n",
       "1505            6.7             0.760         0.02             1.8      0.078   \n",
       "1521            6.9             0.480         0.20             1.9      0.082   \n",
       "\n",
       "      free sulfur dioxide  total sulfur dioxide  density    pH  sulphates  \\\n",
       "18                    6.0                  29.0  0.99740  3.38       0.50   \n",
       "38                    7.0                  19.0  0.99400  3.50       0.48   \n",
       "41                   17.0                  46.0  0.99760  3.26       0.51   \n",
       "45                    8.0                  65.0  0.99340  3.90       0.56   \n",
       "73                   11.0                  43.0  0.99760  3.31       0.53   \n",
       "...                   ...                   ...      ...   ...        ...   \n",
       "1480                  6.0                  13.0  0.99498  3.66       0.62   \n",
       "1482                  3.0                   9.0  0.99719  3.33       0.57   \n",
       "1484                  4.0                  11.0  0.99592  3.53       0.64   \n",
       "1505                  6.0                  12.0  0.99600  3.55       0.63   \n",
       "1521                  9.0                  23.0  0.99585  3.39       0.43   \n",
       "\n",
       "      alcohol  quality  \n",
       "18       9.00        4  \n",
       "38       9.80        4  \n",
       "41       9.30        4  \n",
       "45      13.10        4  \n",
       "73       9.20        4  \n",
       "...       ...      ...  \n",
       "1480    10.10        4  \n",
       "1482    10.30        4  \n",
       "1484    10.90        4  \n",
       "1505     9.95        3  \n",
       "1521     9.05        4  \n",
       "\n",
       "[63 rows x 12 columns]"
      ]
     },
     "execution_count": 4,
     "metadata": {},
     "output_type": "execute_result"
    }
   ],
   "source": [
    "# mask_low_red=data_red.loc[data_red['quality'] <= 4]\n",
    "# mask_low_red\n"
   ]
  },
  {
   "cell_type": "code",
   "execution_count": 75,
   "metadata": {},
   "outputs": [
    {
     "name": "stdout",
     "output_type": "stream",
     "text": [
      "count              63\n",
      "unique              4\n",
      "top       (3.3, 3.38]\n",
      "freq               19\n",
      "Name: Bin, dtype: object\n",
      "Bin\n",
      "(-inf, 3.3]    17\n",
      "(3.3, 3.38]    19\n",
      "(3.38, 3.5]    13\n",
      "(3.5, 3.9]     14\n",
      "Name: pH, dtype: int64\n"
     ]
    },
    {
     "name": "stderr",
     "output_type": "stream",
     "text": [
      "d:\\python3.8.4rc1\\lib\\site-packages\\ipykernel\\ipkernel.py:287: DeprecationWarning: `should_run_async` will not call `transform_cell` automatically in the future. Please pass the result to `transformed_cell` argument and any exception that happen during thetransform in `preprocessing_exc_tuple` in IPython 7.17 and above.\n",
      "  and should_run_async(code)\n",
      "<ipython-input-75-6073991ddb62>:12: SettingWithCopyWarning: \n",
      "A value is trying to be set on a copy of a slice from a DataFrame.\n",
      "Try using .loc[row_indexer,col_indexer] = value instead\n",
      "\n",
      "See the caveats in the documentation: https://pandas.pydata.org/pandas-docs/stable/user_guide/indexing.html#returning-a-view-versus-a-copy\n",
      "  data_to_use['Bin'] = pd.cut(data_to_use[column_variable], bin_used)\n"
     ]
    }
   ],
   "source": [
    "mask_variable=mask_low_red\n",
    "column_variable='pH'\n",
    "data_variable=data_red\n",
    "bin_number=5 # real bin number=bin_number-1\n",
    "freedegree=2\n",
    "\n",
    "\n",
    "data_to_use = data_variable[mask_variable]\n",
    "bin_used = data_to_use[column_variable].quantile(np.linspace(0,1,bin_number)).values\n",
    "bin_used = np.insert(bin_used,0,-np.inf)\n",
    "bin_used = np.delete(bin_used,1)\n",
    "data_to_use['Bin'] = pd.cut(data_to_use[column_variable], bin_used)\n",
    "print(data_to_use.loc[:,'Bin'].describe())\n",
    "\n",
    "data_test = data_to_use.groupby('Bin').count()[column_variable]\n",
    "print(data_test)"
   ]
  },
  {
   "cell_type": "code",
   "execution_count": 67,
   "metadata": {
    "collapsed": true
   },
   "outputs": [
    {
     "data": {
      "text/plain": [
       "array([0.17799951, 0.11087546])"
      ]
     },
     "execution_count": 67,
     "metadata": {},
     "output_type": "execute_result"
    }
   ],
   "source": [
    "mu, sigma = 0, 0.1 # mean and standard deviation\n",
    "s = np.random.normal(mu, sigma, 2)\n",
    "s"
   ]
  },
  {
   "cell_type": "code",
   "execution_count": 73,
   "metadata": {
    "collapsed": true
   },
   "outputs": [
    {
     "name": "stderr",
     "output_type": "stream",
     "text": [
      "d:\\python3.8.4rc1\\lib\\site-packages\\ipykernel\\ipkernel.py:287: DeprecationWarning: `should_run_async` will not call `transform_cell` automatically in the future. Please pass the result to `transformed_cell` argument and any exception that happen during thetransform in `preprocessing_exc_tuple` in IPython 7.17 and above.\n",
      "  and should_run_async(code)\n"
     ]
    },
    {
     "data": {
      "text/plain": [
       "[(0.994, 3.0], (5.0, 7.0], (3.0, 5.0], (3.0, 5.0], (5.0, 7.0], (0.994, 3.0]]\n",
       "Categories (3, interval[float64]): [(0.994, 3.0] < (3.0, 5.0] < (5.0, 7.0]]"
      ]
     },
     "execution_count": 73,
     "metadata": {},
     "output_type": "execute_result"
    }
   ],
   "source": [
    "pd.cut(np.array([1, 7, 5, 4, 6, 3]), 3)"
   ]
  },
  {
   "cell_type": "markdown",
   "metadata": {},
   "source": [
    "#### Defining functions ####"
   ]
  },
  {
   "cell_type": "code",
   "execution_count": 49,
   "metadata": {},
   "outputs": [
    {
     "name": "stderr",
     "output_type": "stream",
     "text": [
      "d:\\python3.8.4rc1\\lib\\site-packages\\ipykernel\\ipkernel.py:287: DeprecationWarning: `should_run_async` will not call `transform_cell` automatically in the future. Please pass the result to `transformed_cell` argument and any exception that happen during thetransform in `preprocessing_exc_tuple` in IPython 7.17 and above.\n",
      "  and should_run_async(code)\n"
     ]
    }
   ],
   "source": [
    "# not include the min value of data\n",
    "\n",
    "def chisquare_func(mask_variable,column_variable,data_variable,bin_number=5,freedegree=2):\n",
    "    \n",
    "    \n",
    "    # linspace(0,1,bin_number)\n",
    "    # bin_number = actual bin number -1\n",
    "    \n",
    "    data_to_use = data_variable[mask_variable]\n",
    "    \n",
    "#     bin_used_data = data_to_use[column_variable].quantile(np.linspace(0,1,bin_number)).values\n",
    "#     bin_used_data = np.insert(bin_used_data,0,-np.inf)\n",
    "#     bin_used_data = np.delete(bin_used_data,1)\n",
    "    bin_used_data = data_to_use[column_variable].quantile(np.linspace(0,1,bin_number)).values\n",
    "    \n",
    "    data_to_use['Bin'] = pd.cut(data_to_use[column_variable], bin_used_data)\n",
    "\n",
    "\n",
    "    \n",
    "    \n",
    "    normal_data = np.random.normal(data_to_use[column_variable].mean(),data_to_use[column_variable].std(),len(data_to_use))\n",
    "    normal_df = pd.DataFrame(normal_data,columns = [column_variable])\n",
    "    \n",
    "#     bin_used_normal = data_to_use[column_variable].quantile(np.linspace(0,1,bin_number)).values\n",
    "#     bin_used_normal = np.insert(bin_used_normal,0,-np.inf)\n",
    "#     bin_used_normal = np.delete(bin_used_normal,1)\n",
    "    \n",
    "    bin_used_normal = normal_df[column_variable].quantile(np.linspace(0,1,bin_number)).values    \n",
    "    \n",
    "    normal_df['Bin'] = pd.cut(normal_df[column_variable], bin_used_normal)\n",
    "    \n",
    "\n",
    "    \n",
    "    data_test = data_to_use.groupby('Bin').count()[column_variable]\n",
    "    normal_test = normal_df.groupby('Bin').count()[column_variable]\n",
    "    \n",
    "    print(\"data_test:\",data_test,\"\\nnormal_test\",normal_test)\n",
    "    \n",
    "    min_data_test = np.min(data_test.values)\n",
    "    min_normal_test = np.min(normal_test.values)\n",
    "    \n",
    "    \n",
    "    print(min_data_test,min_normal_test)\n",
    "    \n",
    "    max_data_test = np.max(data_test.values)\n",
    "    max_normal_test = np.max(normal_test.values)\n",
    "    print(max_data_test,max_normal_test)\n",
    "    \n",
    "    statistic , p_value = chisquare(data_test,normal_test,ddof=freedegree) \n",
    "    \n",
    "    print('the min count in a bin is {}'.format(np.min([min_data_test,min_normal_test])))\n",
    "#     print('the min count in a bin is {}'.format(np.min([min_data_test,min_normal_test])))\n",
    "    print('the degrees of freedom used is {}'.format(freedegree))\n",
    "    \n",
    "    return statistic, p_value\n",
    "\n",
    "def ks_func(mask_variable,column_variable,data_variable):\n",
    "\n",
    "    data_to_use = data_variable[mask_variable][column_variable]\n",
    "\n",
    "    statistic , p_value = kstest(data_to_use,'norm', args=(data_to_use.mean(), data_to_use.std()))   \n",
    "    \n",
    "    return statistic, p_value\n",
    "\n",
    "def compare_plot(mask_variable,column_variable,data_variable):\n",
    "    \n",
    "    data_to_use = data_variable[mask_variable][column_variable]\n",
    "\n",
    "    rvs = np.random.normal(data_to_use.mean(),data_to_use.std(),len(data_to_use))\n",
    "    \n",
    "    norm_cdf = scipy.stats.norm.cdf(rvs)\n",
    "    observed_cdf = scipy.stats.norm.cdf(data_to_use)\n",
    "    \n",
    "    sns.lineplot(x=rvs, y=norm_cdf)\n",
    "    sns.lineplot(x=data_to_use, y=observed_cdf)\n",
    "    plt.show()"
   ]
  },
  {
   "cell_type": "code",
   "execution_count": 52,
   "metadata": {},
   "outputs": [
    {
     "name": "stderr",
     "output_type": "stream",
     "text": [
      "d:\\python3.8.4rc1\\lib\\site-packages\\ipykernel\\ipkernel.py:287: DeprecationWarning: `should_run_async` will not call `transform_cell` automatically in the future. Please pass the result to `transformed_cell` argument and any exception that happen during thetransform in `preprocessing_exc_tuple` in IPython 7.17 and above.\n",
      "  and should_run_async(code)\n"
     ]
    }
   ],
   "source": [
    "# include the min value of data\n",
    "\n",
    "def chisquare_func(mask_variable,column_variable,data_variable,bin_number=5,freedegree=1):\n",
    "\n",
    "    data_to_use = data_variable[mask_variable]\n",
    "    \n",
    "    print(data_to_use.loc[:,'pH'].describe())\n",
    "    bin_used_data = data_to_use[column_variable].quantile(np.linspace(0,1,bin_number)).values\n",
    "    bin_used_data = np.insert(bin_used_data,0,-np.inf)\n",
    "    bin_used_data = np.delete(bin_used_data,1)\n",
    "#     bin_used_data = data_to_use[column_variable].quantile(np.linspace(0,1,bin_number)).values\n",
    "\n",
    "    data_to_use['Bin'] = pd.cut(data_to_use[column_variable], bin_used_data)\n",
    "\n",
    "    \n",
    "    normal_data = np.random.normal(data_to_use[column_variable].mean(),data_to_use[column_variable].std(),len(data_to_use))\n",
    "    normal_df = pd.DataFrame(normal_data,columns = [column_variable])\n",
    "    \n",
    "#     bin_used_normal = normal_df[column_variable].quantile(np.linspace(0,1,bin_number)).values\n",
    "    bin_used_normal = normal_df[column_variable].quantile(np.linspace(0,1,bin_number)).values\n",
    "    bin_used_normal = np.insert(bin_used_normal,0,-np.inf)\n",
    "    bin_used_normal = np.delete(bin_used_normal,1)\n",
    "    \n",
    "    normal_df['Bin'] = pd.cut(normal_df[column_variable],bin_used_normal )\n",
    "\n",
    "    \n",
    "    data_test = data_to_use.groupby('Bin').count()[column_variable]\n",
    "    normal_test = normal_df.groupby('Bin').count()[column_variable]\n",
    "    \n",
    "    print(\"data_test:\",data_test,\"\\nnormal_test\",normal_test)\n",
    "        \n",
    "    min_data_test = np.min(data_test.values)\n",
    "    min_normal_test = np.min(normal_test.values)\n",
    "    \n",
    "    statistic , p_value = chisquare(data_test,normal_test,ddof=freedegree) \n",
    "    \n",
    "    print('the min count in a bin is {}'.format(np.min([min_data_test,min_normal_test])))\n",
    "    print('the degrees of freedom used is {}'.format(freedegree))\n",
    "    \n",
    "    return statistic, p_value"
   ]
  },
  {
   "cell_type": "code",
   "execution_count": 44,
   "metadata": {
    "scrolled": true
   },
   "outputs": [
    {
     "data": {
      "text/plain": [
       "Power_divergenceResult(statistic=6.991463273479591, pvalue=0.008189937203981318)"
      ]
     },
     "execution_count": 44,
     "metadata": {},
     "output_type": "execute_result"
    }
   ],
   "source": [
    "chisquare([17,19,13,14],[19.866,11.03,16.086,15.90],2) "
   ]
  },
  {
   "cell_type": "markdown",
   "metadata": {},
   "source": [
    "#### Examples ####"
   ]
  },
  {
   "cell_type": "code",
   "execution_count": 53,
   "metadata": {
    "scrolled": true
   },
   "outputs": [
    {
     "name": "stdout",
     "output_type": "stream",
     "text": [
      "count    63.000000\n",
      "mean      3.384127\n",
      "std       0.175100\n",
      "min       2.740000\n",
      "25%       3.300000\n",
      "50%       3.380000\n",
      "75%       3.500000\n",
      "max       3.900000\n",
      "Name: pH, dtype: float64\n",
      "data_test: Bin\n",
      "(-inf, 3.3]    17\n",
      "(3.3, 3.38]    19\n",
      "(3.38, 3.5]    13\n",
      "(3.5, 3.9]     14\n",
      "Name: pH, dtype: int64 \n",
      "normal_test Bin\n",
      "(-inf, 3.241]     16\n",
      "(3.241, 3.379]    16\n",
      "(3.379, 3.471]    15\n",
      "(3.471, 3.817]    16\n",
      "Name: pH, dtype: int64\n",
      "the min count in a bin is 13\n",
      "the degrees of freedom used is 2\n"
     ]
    },
    {
     "name": "stderr",
     "output_type": "stream",
     "text": [
      "<ipython-input-52-2758ce39e784>:13: SettingWithCopyWarning: \n",
      "A value is trying to be set on a copy of a slice from a DataFrame.\n",
      "Try using .loc[row_indexer,col_indexer] = value instead\n",
      "\n",
      "See the caveats in the documentation: https://pandas.pydata.org/pandas-docs/stable/user_guide/indexing.html#returning-a-view-versus-a-copy\n",
      "  data_to_use['Bin'] = pd.cut(data_to_use[column_variable], bin_used_data)\n"
     ]
    },
    {
     "data": {
      "text/plain": [
       "(1.1416666666666666, 0.2853004277605792)"
      ]
     },
     "execution_count": 53,
     "metadata": {},
     "output_type": "execute_result"
    }
   ],
   "source": [
    "chisquare_func(mask_variable=mask_low_red,column_variable='pH',data_variable=data_red,bin_number=5,freedegree=2)"
   ]
  },
  {
   "cell_type": "code",
   "execution_count": 170,
   "metadata": {},
   "outputs": [
    {
     "data": {
      "text/plain": [
       "(0.059607962745335086, 0.407821834485401)"
      ]
     },
     "execution_count": 170,
     "metadata": {},
     "output_type": "execute_result"
    }
   ],
   "source": [
    "ks_func(mask_high_red,'pH',data_red)"
   ]
  },
  {
   "cell_type": "markdown",
   "metadata": {},
   "source": [
    "#### Plots for project ####"
   ]
  },
  {
   "cell_type": "code",
   "execution_count": 172,
   "metadata": {
    "collapsed": true
   },
   "outputs": [
    {
     "data": {
      "image/png": "[encoded data removed]",
      "text/plain": [
       "<Figure size 432x288 with 1 Axes>"
      ]
     },
     "metadata": {
      "needs_background": "light"
     },
     "output_type": "display_data"
    }
   ],
   "source": [
    "compare_plot(mask_low_red,'pH',data_red)"
   ]
  },
  {
   "cell_type": "code",
   "execution_count": null,
   "metadata": {},
   "outputs": [],
   "source": []
  },
  {
   "cell_type": "code",
   "execution_count": null,
   "metadata": {},
   "outputs": [],
   "source": []
  },
  {
   "cell_type": "code",
   "execution_count": null,
   "metadata": {},
   "outputs": [],
   "source": []
  }
 ],
 "metadata": {
  "kernelspec": {
   "display_name": "Python 3",
   "language": "python",
   "name": "python3"
  },
  "language_info": {
   "codemirror_mode": {
    "name": "ipython",
    "version": 3
   },
   "file_extension": ".py",
   "mimetype": "text/x-python",
   "name": "python",
   "nbconvert_exporter": "python",
   "pygments_lexer": "ipython3",
   "version": "3.8.4rc1"
  }
 },
 "nbformat": 4,
 "nbformat_minor": 4
}
