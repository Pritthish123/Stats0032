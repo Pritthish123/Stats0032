{
 "cells": [
  {
   "cell_type": "code",
   "execution_count": 1,
   "metadata": {},
   "outputs": [],
   "source": [
    "import pandas as pd\n",
    "import numpy as np\n",
    "import matplotlib.pyplot as plt\n",
    "import scipy.stats\n"
   ]
  },
  {
   "cell_type": "code",
   "execution_count": 7,
   "metadata": {},
   "outputs": [],
   "source": [
    "df_rw = pd.read_csv('winequality-red (1).csv')\n",
    "df_ww = pd.read_csv('winequality-white (1).csv')"
   ]
  },
  {
   "cell_type": "code",
   "execution_count": 8,
   "metadata": {},
   "outputs": [],
   "source": [
    "low_quality_rw = df_rw[df_rw['quality'] <= 4][['pH']].to_numpy()\n",
    "high_quality_rw = df_rw[df_rw['quality'] >= 7]['pH'].to_numpy()\n",
    "low_quality_ww = df_ww[df_ww['quality'] <= 4][['pH']].to_numpy()\n",
    "high_quality_ww = df_ww[df_ww['quality'] >= 7]['pH'].to_numpy()"
   ]
  },
  {
   "cell_type": "code",
   "execution_count": 14,
   "metadata": {},
   "outputs": [],
   "source": [
    "def two_sample_t_and_f_test(X, Y):\n",
    "    #     '''assumptions for F test: (1) the populations from which the two samples are\n",
    "    # drawn are normally distributed, and (2) the two populations are\n",
    "    # independent of each other.'''\n",
    "\n",
    "    X_mean = np.mean(X)\n",
    "    Y_mean = np.mean(Y)\n",
    "    n_x = len(X)\n",
    "    n_y = len(Y)\n",
    "    dof = n_x + n_y - 2\n",
    "    X_variance = np.var(X, ddof=1)\n",
    "    Y_variance = np.var(Y, ddof=1)\n",
    "    F = (X_variance**2)/(Y_variance**2)\n",
    "    pool_estimator = ((n_x - 1) * X_variance + (n_y - 1) * Y_variance)/dof\n",
    "    T = (X_mean - Y_mean)/(pool_estimator * np.sqrt(1/n_x + 1/n_y))\n",
    "    p_value_t = scipy.stats.t.sf(abs(T), df=dof) #two tailed test\n",
    "    p_value_f = scipy.stats.f.sf(F, len(X) - 1, len(Y) - 1)\n",
    "    return p_value_t, p_value_f , X_mean, Y_mean, X_variance, Y_variance, T , F \n"
   ]
  },
  {
   "cell_type": "code",
   "execution_count": 15,
   "metadata": {},
   "outputs": [
    {
     "name": "stdout",
     "output_type": "stream",
     "text": [
      "(3.251789091099316e-77, 0.009300530948598404, 3.384126984126984, 3.2888018433179727, 0.030660112647209425, 0.023863372589179047, 26.245254275707843, 1.6507596625334113)\n"
     ]
    }
   ],
   "source": [
    "print(two_sample_t_and_f_test(low_quality_rw, high_quality_rw))\n",
    "#print(two_sample_t_and_f_test(low_quality_ww, high_quality_ww))"
   ]
  },
  {
   "cell_type": "raw",
   "metadata": {},
   "source": [
    "#3.384126984126984 mean of LQW"
   ]
  },
  {
   "cell_type": "code",
   "execution_count": null,
   "metadata": {},
   "outputs": [],
   "source": [
    "#3.2888018433179727 mean of HQW"
   ]
  },
  {
   "cell_type": "code",
   "execution_count": null,
   "metadata": {},
   "outputs": [],
   "source": [
    "# 0.030660112647209425 sample variance of LQW "
   ]
  },
  {
   "cell_type": "code",
   "execution_count": null,
   "metadata": {},
   "outputs": [],
   "source": [
    "#0.023863372589179047 sample variance of HQW"
   ]
  }
 ],
 "metadata": {
  "kernelspec": {
   "display_name": "Python 3",
   "language": "python",
   "name": "python3"
  },
  "language_info": {
   "codemirror_mode": {
    "name": "ipython",
    "version": 3
   },
   "file_extension": ".py",
   "mimetype": "text/x-python",
   "name": "python",
   "nbconvert_exporter": "python",
   "pygments_lexer": "ipython3",
   "version": "3.8.3"
  }
 },
 "nbformat": 4,
 "nbformat_minor": 4
}
